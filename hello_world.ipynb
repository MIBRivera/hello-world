{
  "nbformat": 4,
  "nbformat_minor": 0,
  "metadata": {
    "colab": {
      "name": "Untitled0.ipynb",
      "provenance": [],
      "authorship_tag": "ABX9TyNVkyowuuHxR/9ICWyNe/Vq",
      "include_colab_link": true
    },
    "kernelspec": {
      "name": "python3",
      "display_name": "Python 3"
    }
  },
  "cells": [
    {
      "cell_type": "markdown",
      "metadata": {
        "id": "view-in-github",
        "colab_type": "text"
      },
      "source": [
        "<a href=\"https://colab.research.google.com/github/MIBRivera/hello-world/blob/master/hello_world.ipynb\" target=\"_parent\"><img src=\"https://colab.research.google.com/assets/colab-badge.svg\" alt=\"Open In Colab\"/></a>"
      ]
    },
    {
      "cell_type": "markdown",
      "metadata": {
        "id": "9seWmZ8KqoLF",
        "colab_type": "text"
      },
      "source": [
        "### Markdowns\n",
        "\n",
        "* Inference: Colab uses the same Markdown system as with GitHub.\n",
        "* Testing the hypothesis: Open this file on GitHub."
      ]
    },
    {
      "cell_type": "code",
      "metadata": {
        "id": "jv5rur3uql1Z",
        "colab_type": "code",
        "colab": {
          "base_uri": "https://localhost:8080/",
          "height": 34
        },
        "outputId": "8a316e66-816f-46b4-a8a1-87041495275d"
      },
      "source": [
        "def fxn(a,b,c):\n",
        "  return (a+b)*c\n",
        "\n",
        "fxn(1,2,3)\n",
        "\n",
        "print('Hello world!')"
      ],
      "execution_count": 4,
      "outputs": [
        {
          "output_type": "stream",
          "text": [
            "Hello world!\n"
          ],
          "name": "stdout"
        }
      ]
    }
  ]
}