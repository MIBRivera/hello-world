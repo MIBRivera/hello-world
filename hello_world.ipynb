{
  "nbformat": 4,
  "nbformat_minor": 0,
  "metadata": {
    "colab": {
      "name": "Untitled0.ipynb",
      "provenance": [],
      "authorship_tag": "ABX9TyMGrK4Cdp7fCOQhlN+/Vegs",
      "include_colab_link": true
    },
    "kernelspec": {
      "name": "python3",
      "display_name": "Python 3"
    }
  },
  "cells": [
    {
      "cell_type": "markdown",
      "metadata": {
        "id": "view-in-github",
        "colab_type": "text"
      },
      "source": [
        "<a href=\"https://colab.research.google.com/github/MIBRivera/hello-world/blob/branch-one/hello_world.ipynb\" target=\"_parent\"><img src=\"https://colab.research.google.com/assets/colab-badge.svg\" alt=\"Open In Colab\"/></a>"
      ]
    },
    {
      "cell_type": "markdown",
      "metadata": {
        "id": "9seWmZ8KqoLF",
        "colab_type": "text"
      },
      "source": [
        "### Markdowns\n",
        "\n",
        "* Inference: Colab uses the same Markdown system as with GitHub.\n",
        "* Testing the hypothesis: Open this file on GitHub."
      ]
    },
    {
      "cell_type": "code",
      "metadata": {
        "id": "jv5rur3uql1Z",
        "colab_type": "code",
        "colab": {
          "base_uri": "https://localhost:8080/",
          "height": 34
        },
        "outputId": "8a316e66-816f-46b4-a8a1-87041495275d"
      },
      "source": [
        "def fxn(a,b,c):\n",
        "  return (a+b)*c\n",
        "\n",
        "fxn(1,2,3)\n",
        "\n",
        "print('Hello world!')"
      ],
      "execution_count": null,
      "outputs": [
        {
          "output_type": "stream",
          "text": [
            "Hello world!\n"
          ],
          "name": "stdout"
        }
      ]
    },
    {
      "cell_type": "code",
      "metadata": {
        "id": "-95TqLJbkK1K",
        "colab_type": "code",
        "colab": {
          "base_uri": "https://localhost:8080/",
          "height": 34
        },
        "outputId": "c7cc14fe-e533-4247-b96b-605ab16cc916"
      },
      "source": [
        "from astroML.datasets import fetch_imaging_sample\n",
        "data = fetch_imaging_sample()\n",
        "data.dtype.names[:5]"
      ],
      "execution_count": 4,
      "outputs": [
        {
          "output_type": "execute_result",
          "data": {
            "text/plain": [
              "('ra', 'dec', 'run', 'rExtSFD', 'uRaw')"
            ]
          },
          "metadata": {
            "tags": []
          },
          "execution_count": 4
        }
      ]
    },
    {
      "cell_type": "code",
      "metadata": {
        "id": "tm0cz6CFnYX9",
        "colab_type": "code",
        "colab": {
          "base_uri": "https://localhost:8080/",
          "height": 284
        },
        "outputId": "4dc6d8d3-ef8b-420d-a896-31f24204c31e"
      },
      "source": [
        "import matplotlib.pyplot as plt\n",
        "from astroML.datasets import fetch_sdss_spectrum\n",
        "\n",
        "plate = 1615 # plate number of the spectrum\n",
        "mjd = 53166 # modified Julian date\n",
        "fiber = 513 # fiber ID on a given plate\n",
        "data = fetch_sdss_spectrum(plate , mjd , fiber)\n",
        "ax = plt.axes()\n",
        "ax.plot(data. wavelength(), data.spectrum , '-r')\n",
        "ax. set_xlabel(r'$\\lambda (\\AA)$')\n",
        "ax.set_ylabel('Flux')\n",
        "\n",
        "plt.show()"
      ],
      "execution_count": 6,
      "outputs": [
        {
          "output_type": "display_data",
          "data": {
            "image/png": "[encoded data removed]",
            "text/plain": [
              "<Figure size 432x288 with 1 Axes>"
            ]
          },
          "metadata": {
            "tags": [],
            "needs_background": "light"
          }
        }
      ]
    },
    {
      "cell_type": "code",
      "metadata": {
        "id": "5il1zPlCkwjl",
        "colab_type": "code",
        "colab": {
          "base_uri": "https://localhost:8080/",
          "height": 275
        },
        "outputId": "561d1baa-9ed4-44a6-ed9d-993923b51e89"
      },
      "source": [
        "!pip install HealPy"
      ],
      "execution_count": 7,
      "outputs": [
        {
          "output_type": "stream",
          "text": [
            "Collecting HealPy\n",
            "\u001b[?25l  Downloading https://files.pythonhosted.org/packages/dd/30/56144086dc132b5bf5b271c62d045460db6c6a5a2bb68d3f7bde678a6727/healpy-1.14.0-cp36-cp36m-manylinux1_x86_64.whl (15.8MB)\n",
            "\u001b[K     |████████████████████████████████| 15.8MB 297kB/s \n",
            "\u001b[?25hRequirement already satisfied: numpy>=1.13 in /usr/local/lib/python3.6/dist-packages (from HealPy) (1.18.5)\n",
            "Requirement already satisfied: six in /usr/local/lib/python3.6/dist-packages (from HealPy) (1.15.0)\n",
            "Requirement already satisfied: astropy in /usr/local/lib/python3.6/dist-packages (from HealPy) (4.0.1.post1)\n",
            "Requirement already satisfied: scipy in /usr/local/lib/python3.6/dist-packages (from HealPy) (1.4.1)\n",
            "Requirement already satisfied: matplotlib in /usr/local/lib/python3.6/dist-packages (from HealPy) (3.2.2)\n",
            "Requirement already satisfied: cycler>=0.10 in /usr/local/lib/python3.6/dist-packages (from matplotlib->HealPy) (0.10.0)\n",
            "Requirement already satisfied: python-dateutil>=2.1 in /usr/local/lib/python3.6/dist-packages (from matplotlib->HealPy) (2.8.1)\n",
            "Requirement already satisfied: pyparsing!=2.0.4,!=2.1.2,!=2.1.6,>=2.0.1 in /usr/local/lib/python3.6/dist-packages (from matplotlib->HealPy) (2.4.7)\n",
            "Requirement already satisfied: kiwisolver>=1.0.1 in /usr/local/lib/python3.6/dist-packages (from matplotlib->HealPy) (1.2.0)\n",
            "Installing collected packages: HealPy\n",
            "Successfully installed HealPy-1.14.0\n"
          ],
          "name": "stdout"
        }
      ]
    }
  ]
}