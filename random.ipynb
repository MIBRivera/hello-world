{
  "nbformat": 4,
  "nbformat_minor": 0,
  "metadata": {
    "colab": {
      "name": "Untitled0.ipynb",
      "provenance": [],
      "include_colab_link": true
    },
    "kernelspec": {
      "name": "python3",
      "display_name": "Python 3"
    }
  },
  "cells": [
    {
      "cell_type": "markdown",
      "metadata": {
        "id": "view-in-github",
        "colab_type": "text"
      },
      "source": [
        "<a href=\"https://colab.research.google.com/github/MIBRivera/hello-world/blob/branch-one/random.ipynb\" target=\"_parent\"><img src=\"https://colab.research.google.com/assets/colab-badge.svg\" alt=\"Open In Colab\"/></a>"
      ]
    },
    {
      "cell_type": "markdown",
      "metadata": {
        "id": "9seWmZ8KqoLF",
        "colab_type": "text"
      },
      "source": [
        "### Markdowns\n",
        "\n",
        "* Inference: Colab uses the same Markdown system as with GitHub.\n",
        "* Testing the hypothesis: Open this file on GitHub."
      ]
    },
    {
      "cell_type": "code",
      "metadata": {
        "id": "jv5rur3uql1Z",
        "colab_type": "code",
        "colab": {
          "base_uri": "https://localhost:8080/",
          "height": 34
        },
        "outputId": "8a316e66-816f-46b4-a8a1-87041495275d"
      },
      "source": [
        "def fxn(a,b,c):\n",
        "  return (a+b)*c\n",
        "\n",
        "fxn(1,2,3)\n",
        "\n",
        "print('Hello world!')"
      ],
      "execution_count": null,
      "outputs": [
        {
          "output_type": "stream",
          "text": [
            "Hello world!\n"
          ],
          "name": "stdout"
        }
      ]
    },
    {
      "cell_type": "code",
      "metadata": {
        "id": "-95TqLJbkK1K",
        "colab_type": "code",
        "colab": {
          "base_uri": "https://localhost:8080/",
          "height": 34
        },
        "outputId": "c7cc14fe-e533-4247-b96b-605ab16cc916"
      },
      "source": [
        "from astroML.datasets import fetch_imaging_sample\n",
        "data = fetch_imaging_sample()\n",
        "data.dtype.names[:5]"
      ],
      "execution_count": null,
      "outputs": [
        {
          "output_type": "execute_result",
          "data": {
            "text/plain": [
              "('ra', 'dec', 'run', 'rExtSFD', 'uRaw')"
            ]
          },
          "metadata": {
            "tags": []
          },
          "execution_count": 4
        }
      ]
    },
    {
      "cell_type": "code",
      "metadata": {
        "id": "tm0cz6CFnYX9",
        "colab_type": "code",
        "colab": {
          "base_uri": "https://localhost:8080/",
          "height": 284
        },
        "outputId": "4dc6d8d3-ef8b-420d-a896-31f24204c31e"
      },
      "source": [
        "import matplotlib.pyplot as plt\n",
        "from astroML.datasets import fetch_sdss_spectrum\n",
        "\n",
        "plate = 1615 # plate number of the spectrum\n",
        "mjd = 53166 # modified Julian date\n",
        "fiber = 513 # fiber ID on a given plate\n",
        "data = fetch_sdss_spectrum(plate , mjd , fiber)\n",
        "ax = plt.axes()\n",
        "ax.plot(data. wavelength(), data.spectrum , '-r')\n",
        "ax. set_xlabel(r'$\\lambda (\\AA)$')\n",
        "ax.set_ylabel('Flux')\n",
        "\n",
        "plt.show()"
      ],
      "execution_count": null,
      "outputs": [
        {
          "output_type": "display_data",
          "data": {
            "image/png": "[encoded data removed]",
            "text/plain": [
              "<Figure size 432x288 with 1 Axes>"
            ]
          },
          "metadata": {
            "tags": [],
            "needs_background": "light"
          }
        }
      ]
    },
    {
      "cell_type": "code",
      "metadata": {
        "id": "5il1zPlCkwjl",
        "colab_type": "code",
        "colab": {
          "base_uri": "https://localhost:8080/",
          "height": 275
        },
        "outputId": "561d1baa-9ed4-44a6-ed9d-993923b51e89"
      },
      "source": [
        "!pip install HealPy"
      ],
      "execution_count": null,
      "outputs": [
        {
          "output_type": "stream",
          "text": [
            "Collecting HealPy\n",
            "\u001b[?25l  Downloading https://files.pythonhosted.org/packages/dd/30/56144086dc132b5bf5b271c62d045460db6c6a5a2bb68d3f7bde678a6727/healpy-1.14.0-cp36-cp36m-manylinux1_x86_64.whl (15.8MB)\n",
            "\u001b[K     |████████████████████████████████| 15.8MB 297kB/s \n",
            "\u001b[?25hRequirement already satisfied: numpy>=1.13 in /usr/local/lib/python3.6/dist-packages (from HealPy) (1.18.5)\n",
            "Requirement already satisfied: six in /usr/local/lib/python3.6/dist-packages (from HealPy) (1.15.0)\n",
            "Requirement already satisfied: astropy in /usr/local/lib/python3.6/dist-packages (from HealPy) (4.0.1.post1)\n",
            "Requirement already satisfied: scipy in /usr/local/lib/python3.6/dist-packages (from HealPy) (1.4.1)\n",
            "Requirement already satisfied: matplotlib in /usr/local/lib/python3.6/dist-packages (from HealPy) (3.2.2)\n",
            "Requirement already satisfied: cycler>=0.10 in /usr/local/lib/python3.6/dist-packages (from matplotlib->HealPy) (0.10.0)\n",
            "Requirement already satisfied: python-dateutil>=2.1 in /usr/local/lib/python3.6/dist-packages (from matplotlib->HealPy) (2.8.1)\n",
            "Requirement already satisfied: pyparsing!=2.0.4,!=2.1.2,!=2.1.6,>=2.0.1 in /usr/local/lib/python3.6/dist-packages (from matplotlib->HealPy) (2.4.7)\n",
            "Requirement already satisfied: kiwisolver>=1.0.1 in /usr/local/lib/python3.6/dist-packages (from matplotlib->HealPy) (1.2.0)\n",
            "Installing collected packages: HealPy\n",
            "Successfully installed HealPy-1.14.0\n"
          ],
          "name": "stdout"
        }
      ]
    },
    {
      "cell_type": "code",
      "metadata": {
        "id": "vFjwitTVOe4p",
        "colab_type": "code",
        "colab": {
          "base_uri": "https://localhost:8080/",
          "height": 122
        },
        "outputId": "17375663-0828-4ada-ac24-6b273cd3f45e"
      },
      "source": [
        "from google.colab import drive\n",
        "drive.mount('/content/drive')"
      ],
      "execution_count": 1,
      "outputs": [
        {
          "output_type": "stream",
          "text": [
            "Go to this URL in a browser: https://accounts.google.com/o/oauth2/auth?client_id=947318989803-6bn6qk8qdgf4n4g3pfee6491hc0brc4i.apps.googleusercontent.com&redirect_uri=urn%3aietf%3awg%3aoauth%3a2.0%3aoob&response_type=code&scope=email%20https%3a%2f%2fwww.googleapis.com%2fauth%2fdocs.test%20https%3a%2f%2fwww.googleapis.com%2fauth%2fdrive%20https%3a%2f%2fwww.googleapis.com%2fauth%2fdrive.photos.readonly%20https%3a%2f%2fwww.googleapis.com%2fauth%2fpeopleapi.readonly\n",
            "\n",
            "Enter your authorization code:\n",
            "··········\n",
            "Mounted at /content/drive\n"
          ],
          "name": "stdout"
        }
      ]
    },
    {
      "cell_type": "code",
      "metadata": {
        "id": "QzpXweRAOIRS",
        "colab_type": "code",
        "colab": {}
      },
      "source": [
        "import pandas as pd\n",
        "path = \"drive/My Drive/data/Copy of boc_lite_2019.csv\"\n",
        "dataset = pd.read_csv(path, engine='python')\n",
        "# Dataset is now stored in a Pandas Dataframe"
      ],
      "execution_count": 8,
      "outputs": []
    },
    {
      "cell_type": "code",
      "metadata": {
        "id": "3wCbu8LsmBca",
        "colab_type": "code",
        "colab": {
          "base_uri": "https://localhost:8080/",
          "height": 646
        },
        "outputId": "404e12c6-d0e0-453d-a5ea-b0544b84e968"
      },
      "source": [
        "dataset.info()"
      ],
      "execution_count": 11,
      "outputs": [
        {
          "output_type": "stream",
          "text": [
            "<class 'pandas.core.frame.DataFrame'>\n",
            "RangeIndex: 3794763 entries, 0 to 3794762\n",
            "Data columns (total 30 columns):\n",
            " #   Column                Dtype  \n",
            "---  ------                -----  \n",
            " 0   uid                   object \n",
            " 1   ty                    int64  \n",
            " 2   tq                    object \n",
            " 3   tm                    object \n",
            " 4   entry                 float64\n",
            " 5   hscode                int64  \n",
            " 6   goodsdescription      object \n",
            " 7   p                     float64\n",
            " 8   q                     float64\n",
            " 9   m_fob                 float64\n",
            " 10  m_cif                 float64\n",
            " 11  fx_usd                float64\n",
            " 12  dutiablevalueforeign  float64\n",
            " 13  exchangerate          float64\n",
            " 14  currency              object \n",
            " 15  dutiablevaluephp      float64\n",
            " 16  dutypaid              int64  \n",
            " 17  exciseadvalorem       int64  \n",
            " 18  arrastre              float64\n",
            " 19  wharfage              float64\n",
            " 20  vatbase               int64  \n",
            " 21  vatpaid               int64  \n",
            " 22  othertax              float64\n",
            " 23  finesandpenalties     float64\n",
            " 24  dutiestaxes           int64  \n",
            " 25  prefcode              object \n",
            " 26  countryorigin_iso3    object \n",
            " 27  countryexport_iso3    object \n",
            " 28  subport               float64\n",
            " 29  port                  float64\n",
            "dtypes: float64(15), int64(7), object(8)\n",
            "memory usage: 868.6+ MB\n"
          ],
          "name": "stdout"
        }
      ]
    },
    {
      "cell_type": "code",
      "metadata": {
        "id": "RHBcLAvZuKHx",
        "colab_type": "code",
        "colab": {
          "base_uri": "https://localhost:8080/",
          "height": 375
        },
        "outputId": "241c9352-418c-44d3-ce28-ff7a19298b70"
      },
      "source": [
        "import matplotlib.pyplot as plt\n",
        "%matplotlib inline\n",
        "plt.style.use('seaborn')\n",
        "\n",
        "plt.bar(dataset.uid[:10], dataset.vatbase[:10], label='Base VAT')\n",
        "plt.bar(dataset.uid[:10], dataset.vatpaid[:10], label='Paid VAT')\n",
        "plt.legend()"
      ],
      "execution_count": 17,
      "outputs": [
        {
          "output_type": "execute_result",
          "data": {
            "text/plain": [
              "<matplotlib.legend.Legend at 0x7fc3deecf6a0>"
            ]
          },
          "metadata": {
            "tags": []
          },
          "execution_count": 17
        },
        {
          "output_type": "display_data",
          "data": {
            "image/png": "[encoded data removed]",
            "text/plain": [
              "<Figure size 576x396 with 1 Axes>"
            ]
          },
          "metadata": {
            "tags": []
          }
        }
      ]
    }
  ]
}